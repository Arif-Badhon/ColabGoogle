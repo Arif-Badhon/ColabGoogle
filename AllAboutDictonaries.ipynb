{
  "nbformat": 4,
  "nbformat_minor": 0,
  "metadata": {
    "colab": {
      "name": "AllAboutDictonaries",
      "provenance": [],
      "authorship_tag": "ABX9TyPQiRweK7awN7HtVz1Bz3GN",
      "include_colab_link": true
    },
    "kernelspec": {
      "name": "python3",
      "display_name": "Python 3"
    }
  },
  "cells": [
    {
      "cell_type": "markdown",
      "metadata": {
        "id": "view-in-github",
        "colab_type": "text"
      },
      "source": [
        "<a href=\"https://colab.research.google.com/github/Arif-Badhon/ColabGoogle/blob/master/AllAboutDictonaries.ipynb\" target=\"_parent\"><img src=\"https://colab.research.google.com/assets/colab-badge.svg\" alt=\"Open In Colab\"/></a>"
      ]
    },
    {
      "cell_type": "markdown",
      "metadata": {
        "id": "pBrRMmvW33oo",
        "colab_type": "text"
      },
      "source": [
        "This notebook will show all about Dictonaries. Dictonaries are like Tuple. But Tuple are disorder, Dictonaries are in order."
      ]
    },
    {
      "cell_type": "code",
      "metadata": {
        "id": "xRouWqB83ttQ",
        "colab_type": "code",
        "colab": {
          "base_uri": "https://localhost:8080/",
          "height": 51
        },
        "outputId": "1ca9b1e3-c4fa-4a57-bec7-7091a79238a8"
      },
      "source": [
        "eng2sp = {'three':'tres', 'one':'uno', 'two':'dos'} #This line show English to spanis language\n",
        "value = eng2sp['two'] #value is the spanish for english Two\n",
        "print(value)\n",
        "print(eng2sp['one'])"
      ],
      "execution_count": 2,
      "outputs": [
        {
          "output_type": "stream",
          "text": [
            "dos\n",
            "uno\n"
          ],
          "name": "stdout"
        }
      ]
    },
    {
      "cell_type": "markdown",
      "metadata": {
        "id": "qMYcVU_Z5Id4",
        "colab_type": "text"
      },
      "source": [
        "Basic operations with Dictonaries"
      ]
    },
    {
      "cell_type": "code",
      "metadata": {
        "id": "8YzBAJoj5Lc_",
        "colab_type": "code",
        "colab": {
          "base_uri": "https://localhost:8080/",
          "height": 102
        },
        "outputId": "bde9ab72-da96-4574-c419-979bbd91f96d"
      },
      "source": [
        "inventory = {'apples':430, 'bananas':312, 'oranges':525, 'pears':217} #Delclearing a Dictonary\n",
        "print(inventory)\n",
        "del inventory['pears'] #delete a value\n",
        "print(inventory)\n",
        "inventory ['apples'] = 500 #update the value of apples\n",
        "print(inventory)\n",
        "inventory['bananas'] = inventory['bananas'] + 200 #update the value\n",
        "print(inventory)\n",
        "print(len(inventory))"
      ],
      "execution_count": 5,
      "outputs": [
        {
          "output_type": "stream",
          "text": [
            "{'apples': 430, 'bananas': 312, 'oranges': 525, 'pears': 217}\n",
            "{'apples': 430, 'bananas': 312, 'oranges': 525}\n",
            "{'apples': 500, 'bananas': 312, 'oranges': 525}\n",
            "{'apples': 500, 'bananas': 512, 'oranges': 525}\n",
            "3\n"
          ],
          "name": "stdout"
        }
      ]
    },
    {
      "cell_type": "markdown",
      "metadata": {
        "id": "UAJ1Tug56bZv",
        "colab_type": "text"
      },
      "source": [
        "Dictonaries Methods"
      ]
    },
    {
      "cell_type": "code",
      "metadata": {
        "id": "5aWPfqvu6d3G",
        "colab_type": "code",
        "colab": {
          "base_uri": "https://localhost:8080/",
          "height": 68
        },
        "outputId": "17e88d03-e541-4c9f-a215-636d54ff1099"
      },
      "source": [
        "for key in inventory:\n",
        "  print(key, \"has the value\", inventory[key])"
      ],
      "execution_count": 7,
      "outputs": [
        {
          "output_type": "stream",
          "text": [
            "apples has the value 500\n",
            "bananas has the value 512\n",
            "oranges has the value 525\n"
          ],
          "name": "stdout"
        }
      ]
    },
    {
      "cell_type": "code",
      "metadata": {
        "id": "HciBOnqZ7QSf",
        "colab_type": "code",
        "colab": {
          "base_uri": "https://localhost:8080/",
          "height": 34
        },
        "outputId": "72832c0d-1276-410c-869c-74a049c342be"
      },
      "source": [
        "print(list(inventory.values()))"
      ],
      "execution_count": 9,
      "outputs": [
        {
          "output_type": "stream",
          "text": [
            "[500, 512, 525]\n"
          ],
          "name": "stdout"
        }
      ]
    },
    {
      "cell_type": "markdown",
      "metadata": {
        "id": "sHPILITKJ96v",
        "colab_type": "text"
      },
      "source": [
        "Aliasing and coping with dictonaries"
      ]
    },
    {
      "cell_type": "code",
      "metadata": {
        "id": "eMQdUoU9KB19",
        "colab_type": "code",
        "colab": {
          "base_uri": "https://localhost:8080/",
          "height": 51
        },
        "outputId": "fe12af96-b96b-46c5-c636-330150a035da"
      },
      "source": [
        "opposites = {'up':'down', 'right':'wrong', 'true':'false'}\n",
        "alias = opposites\n",
        "print(alias == opposites)\n",
        "alias['right'] = 'left'\n",
        "print(opposites['right'])"
      ],
      "execution_count": 11,
      "outputs": [
        {
          "output_type": "stream",
          "text": [
            "True\n",
            "left\n"
          ],
          "name": "stdout"
        }
      ]
    },
    {
      "cell_type": "markdown",
      "metadata": {
        "id": "G1Wyb-uRKoU9",
        "colab_type": "text"
      },
      "source": [
        "Now suppose we want to keep track of how many 't' and 's' are in a file"
      ]
    },
    {
      "cell_type": "code",
      "metadata": {
        "id": "7msSVbamKwqc",
        "colab_type": "code",
        "colab": {
          "base_uri": "https://localhost:8080/",
          "height": 51
        },
        "outputId": "2fad0795-8da0-4ca7-ef6d-ae29fc2e2bb4"
      },
      "source": [
        "f = open ('sample_data/README.md','r')\n",
        "txt = f.read()\n",
        "t_count = 0\n",
        "s_count = 0\n",
        "for c in txt:\n",
        "  if c == 't':\n",
        "    t_count = t_count + 1\n",
        "  elif c == 's':\n",
        "    s_count = s_count + 1\n",
        "print('t:' + str(t_count)+' occurence')\n",
        "print('s:' + str(s_count)+' occurence')"
      ],
      "execution_count": 14,
      "outputs": [
        {
          "output_type": "stream",
          "text": [
            "t:52 occurence\n",
            "s:56 occurence\n"
          ],
          "name": "stdout"
        }
      ]
    },
    {
      "cell_type": "markdown",
      "metadata": {
        "id": "Jg9JqN41Mhpn",
        "colab_type": "text"
      },
      "source": [
        "Create a dictonary called 'd' that keeps track of all the characters in the string 'placement' and notes how many times each character was seen. Then, find the key with the lowest value in this dictonary and assign that key to 'min_value'"
      ]
    },
    {
      "cell_type": "code",
      "metadata": {
        "id": "66QuhcvAM9EW",
        "colab_type": "code",
        "colab": {
          "base_uri": "https://localhost:8080/",
          "height": 34
        },
        "outputId": "365158fd-6751-4a68-bc81-15244a35017d"
      },
      "source": [
        "placement = 'Because are cool places to visit in spring however the mackinaw Bridge is near. Most people visit Mackinaw later'\n",
        "d = {}\n",
        "for c in placement:\n",
        "  if c not in d:\n",
        "    d[c] = 0\n",
        "    d[c] = d[c]+1\n",
        "keys = list(d.keys())\n",
        "min_value = key[0]\n",
        "\n",
        "for key in keys:\n",
        "  if d[key] < d[min_value]:\n",
        "    min_value = key\n",
        "print(min_value)"
      ],
      "execution_count": 15,
      "outputs": [
        {
          "output_type": "stream",
          "text": [
            "o\n"
          ],
          "name": "stdout"
        }
      ]
    }
  ]
}