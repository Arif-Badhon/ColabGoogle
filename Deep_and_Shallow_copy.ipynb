{
  "nbformat": 4,
  "nbformat_minor": 0,
  "metadata": {
    "colab": {
      "name": "Deep and Shallow copy",
      "provenance": [],
      "authorship_tag": "ABX9TyNexzFkDYutcbnGSoC7MqT5",
      "include_colab_link": true
    },
    "kernelspec": {
      "name": "python3",
      "display_name": "Python 3"
    }
  },
  "cells": [
    {
      "cell_type": "markdown",
      "metadata": {
        "id": "view-in-github",
        "colab_type": "text"
      },
      "source": [
        "<a href=\"https://colab.research.google.com/github/Arif-Badhon/ColabGoogle/blob/master/Deep_and_Shallow_copy.ipynb\" target=\"_parent\"><img src=\"https://colab.research.google.com/assets/colab-badge.svg\" alt=\"Open In Colab\"/></a>"
      ]
    },
    {
      "cell_type": "markdown",
      "metadata": {
        "id": "fcYrUkl2CAGM",
        "colab_type": "text"
      },
      "source": [
        "This notebook describes about the deep and "
      ]
    },
    {
      "cell_type": "code",
      "metadata": {
        "id": "Jp7Q01OXB8LG",
        "colab_type": "code",
        "colab": {}
      },
      "source": [
        "original = [['dogs', 'puppies'], ['cats', 'kittens']]"
      ],
      "execution_count": 1,
      "outputs": []
    },
    {
      "cell_type": "code",
      "metadata": {
        "id": "uSP7RjimDE2D",
        "colab_type": "code",
        "colab": {
          "base_uri": "https://localhost:8080/",
          "height": 34
        },
        "outputId": "1ccf7f12-4ca9-42d0-ff84-90706e591373"
      },
      "source": [
        "shallow_copied_version = original[:]\n",
        "print(shallow_copied_version)"
      ],
      "execution_count": 2,
      "outputs": [
        {
          "output_type": "stream",
          "text": [
            "[['dogs', 'puppies'], ['cats', 'kittens']]\n"
          ],
          "name": "stdout"
        }
      ]
    },
    {
      "cell_type": "code",
      "metadata": {
        "id": "y1zNgSajDQNB",
        "colab_type": "code",
        "colab": {
          "base_uri": "https://localhost:8080/",
          "height": 51
        },
        "outputId": "971f2f77-44c1-4781-ca47-3c35cbafe0b9"
      },
      "source": [
        "print(shallow_copied_version is original)\n",
        "print(shallow_copied_version == original)"
      ],
      "execution_count": 3,
      "outputs": [
        {
          "output_type": "stream",
          "text": [
            "False\n",
            "True\n"
          ],
          "name": "stdout"
        }
      ]
    },
    {
      "cell_type": "code",
      "metadata": {
        "id": "pLpb2egaDkpx",
        "colab_type": "code",
        "colab": {
          "base_uri": "https://localhost:8080/",
          "height": 51
        },
        "outputId": "3c66be16-60aa-4641-8826-2405511e08b1"
      },
      "source": [
        "original[0].append(['canines'])\n",
        "print(original)\n",
        "print(shallow_copied_version)"
      ],
      "execution_count": 4,
      "outputs": [
        {
          "output_type": "stream",
          "text": [
            "[['dogs', 'puppies', ['canines']], ['cats', 'kittens']]\n",
            "[['dogs', 'puppies', ['canines']], ['cats', 'kittens']]\n"
          ],
          "name": "stdout"
        }
      ]
    },
    {
      "cell_type": "markdown",
      "metadata": {
        "id": "X5yY4WZIGtrU",
        "colab_type": "text"
      },
      "source": [
        "Deep Copy"
      ]
    },
    {
      "cell_type": "code",
      "metadata": {
        "id": "uqE6m97TGvpy",
        "colab_type": "code",
        "colab": {
          "base_uri": "https://localhost:8080/",
          "height": 68
        },
        "outputId": "a5fbdaa0-2332-43ee-9675-c2ef67bedc7f"
      },
      "source": [
        "import copy\n",
        "original = [['canines',['dogs', 'puppies']],['felines',['cats','kittens']]]\n",
        "shallow_copy_version = original[:]\n",
        "deep_copy_version = copy.deepcopy(original)\n",
        "original.append(\"hi there\")\n",
        "print(original)\n",
        "print(shallow_copy_version)\n",
        "print(deep_copy_version)"
      ],
      "execution_count": 5,
      "outputs": [
        {
          "output_type": "stream",
          "text": [
            "[['canines', ['dogs', 'puppies']], ['felines', ['cats', 'kittens']], 'hi there']\n",
            "[['canines', ['dogs', 'puppies']], ['felines', ['cats', 'kittens']]]\n",
            "[['canines', ['dogs', 'puppies']], ['felines', ['cats', 'kittens']]]\n"
          ],
          "name": "stdout"
        }
      ]
    }
  ]
}