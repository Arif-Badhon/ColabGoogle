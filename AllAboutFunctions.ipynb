{
  "nbformat": 4,
  "nbformat_minor": 0,
  "metadata": {
    "colab": {
      "name": "AllAboutFunctions",
      "provenance": [],
      "authorship_tag": "ABX9TyMlPAUOm5XUJp7iGE3nyFqg",
      "include_colab_link": true
    },
    "kernelspec": {
      "name": "python3",
      "display_name": "Python 3"
    }
  },
  "cells": [
    {
      "cell_type": "markdown",
      "metadata": {
        "id": "view-in-github",
        "colab_type": "text"
      },
      "source": [
        "<a href=\"https://colab.research.google.com/github/Arif-Badhon/ColabGoogle/blob/master/AllAboutFunctions.ipynb\" target=\"_parent\"><img src=\"https://colab.research.google.com/assets/colab-badge.svg\" alt=\"Open In Colab\"/></a>"
      ]
    },
    {
      "cell_type": "markdown",
      "metadata": {
        "id": "Z3aCft1wRZpA",
        "colab_type": "text"
      },
      "source": [
        "This notebook explains all about Functions"
      ]
    },
    {
      "cell_type": "markdown",
      "metadata": {
        "id": "EdE_sFNjRiR5",
        "colab_type": "text"
      },
      "source": [
        "Simple Function in Python"
      ]
    },
    {
      "cell_type": "code",
      "metadata": {
        "id": "Yl71r1S7RXPX",
        "colab_type": "code",
        "colab": {}
      },
      "source": [
        "def hello():\n",
        "  ''' This function says hello and greets you\n",
        "  some more '''\n",
        "\n",
        "  print('Hello')\n",
        "  print('Glad to meet you')"
      ],
      "execution_count": 1,
      "outputs": []
    },
    {
      "cell_type": "markdown",
      "metadata": {
        "id": "dWQ_97EyR4Aj",
        "colab_type": "text"
      },
      "source": [
        "Now call the Function"
      ]
    },
    {
      "cell_type": "code",
      "metadata": {
        "id": "MTNylQMcR6EB",
        "colab_type": "code",
        "colab": {
          "base_uri": "https://localhost:8080/",
          "height": 51
        },
        "outputId": "9732e4ad-5c13-4b27-b335-9840b19ed345"
      },
      "source": [
        "hello()"
      ],
      "execution_count": 2,
      "outputs": [
        {
          "output_type": "stream",
          "text": [
            "Hello\n",
            "Glad to meet you\n"
          ],
          "name": "stdout"
        }
      ]
    },
    {
      "cell_type": "markdown",
      "metadata": {
        "id": "HH66qqO0R8Qj",
        "colab_type": "text"
      },
      "source": [
        "Now if we want to input something when calling function"
      ]
    },
    {
      "cell_type": "code",
      "metadata": {
        "id": "V3Eq-LKNSJED",
        "colab_type": "code",
        "colab": {}
      },
      "source": [
        "def hello2(s):\n",
        "  ''' This function says hello and greets you\n",
        "  some more '''\n",
        "\n",
        "  print('Hello ' + s)\n",
        "  print('Glad to meet you')"
      ],
      "execution_count": 5,
      "outputs": []
    },
    {
      "cell_type": "markdown",
      "metadata": {
        "id": "nNhaRhGTSRmE",
        "colab_type": "text"
      },
      "source": [
        "Now call the Function"
      ]
    },
    {
      "cell_type": "code",
      "metadata": {
        "id": "aQmdVwZuSThI",
        "colab_type": "code",
        "colab": {
          "base_uri": "https://localhost:8080/",
          "height": 51
        },
        "outputId": "6f779481-6833-45ab-a145-73c8bdcacc34"
      },
      "source": [
        "hello2('Badhon')"
      ],
      "execution_count": 6,
      "outputs": [
        {
          "output_type": "stream",
          "text": [
            "Hello Badhon\n",
            "Glad to meet you\n"
          ],
          "name": "stdout"
        }
      ]
    },
    {
      "cell_type": "code",
      "metadata": {
        "id": "VN8TfjoKS5yl",
        "colab_type": "code",
        "colab": {}
      },
      "source": [
        "def hello3(s,n):\n",
        "  greeting = \"Hello {} \".format(s)\n",
        "  print(greeting*n)"
      ],
      "execution_count": 12,
      "outputs": []
    },
    {
      "cell_type": "code",
      "metadata": {
        "id": "P4kwq2HPTYi7",
        "colab_type": "code",
        "colab": {
          "base_uri": "https://localhost:8080/",
          "height": 34
        },
        "outputId": "4ba73bcc-f8d5-4964-88a3-6d045e2b4702"
      },
      "source": [
        "hello3('Badhon',4)"
      ],
      "execution_count": 13,
      "outputs": [
        {
          "output_type": "stream",
          "text": [
            "Hello Badhon Hello Badhon Hello Badhon Hello Badhon \n"
          ],
          "name": "stdout"
        }
      ]
    },
    {
      "cell_type": "markdown",
      "metadata": {
        "id": "Ymtz6nCYUzh2",
        "colab_type": "text"
      },
      "source": [
        "Returning a value. Lets write a code that takes a value and square it give the result."
      ]
    },
    {
      "cell_type": "code",
      "metadata": {
        "id": "-wT68VxdU728",
        "colab_type": "code",
        "colab": {
          "base_uri": "https://localhost:8080/",
          "height": 51
        },
        "outputId": "8fc2e9f7-5689-41b3-a9ae-e48edcd8b716"
      },
      "source": [
        "def square(x):\n",
        "  y = x*x\n",
        "  return y\n",
        "\n",
        "toSquare = int(input(\"Please a enter value: \"))\n",
        "result = square(toSquare)\n",
        "print(result)"
      ],
      "execution_count": 16,
      "outputs": [
        {
          "output_type": "stream",
          "text": [
            "Please a enter value: 403\n",
            "162409\n"
          ],
          "name": "stdout"
        }
      ]
    },
    {
      "cell_type": "markdown",
      "metadata": {
        "id": "a4m09N3KWDyF",
        "colab_type": "text"
      },
      "source": [
        "Lets write a code that find the sum of the series of numbers "
      ]
    },
    {
      "cell_type": "code",
      "metadata": {
        "id": "zYDsfoDZWKJD",
        "colab_type": "code",
        "colab": {
          "base_uri": "https://localhost:8080/",
          "height": 51
        },
        "outputId": "411516f8-d42c-4fd3-d04c-b8251b3fd4c4"
      },
      "source": [
        "def sumTo(n):\n",
        "  theSum = 0\n",
        "  aNumber = 1\n",
        "  while aNumber <= n:\n",
        "    theSum = theSum+aNumber\n",
        "    aNumber = aNumber+1\n",
        "  return theSum\n",
        "print(sumTo(int(input())))"
      ],
      "execution_count": 17,
      "outputs": [
        {
          "output_type": "stream",
          "text": [
            "123\n",
            "7626\n"
          ],
          "name": "stdout"
        }
      ]
    },
    {
      "cell_type": "markdown",
      "metadata": {
        "id": "ycOWmVk6XDR9",
        "colab_type": "text"
      },
      "source": [
        "Write a function that reverse the string taken from input"
      ]
    },
    {
      "cell_type": "code",
      "metadata": {
        "id": "CArUueXpXJ1D",
        "colab_type": "code",
        "colab": {
          "base_uri": "https://localhost:8080/",
          "height": 34
        },
        "outputId": "963ab8fa-79e2-49a8-f8b2-92b9005e9c7b"
      },
      "source": [
        "def revString(n):\n",
        "  y = ''.join(reversed(n)) #without .join it will return only object\n",
        "  return y\n",
        "\n",
        "t = revString(\"I Love You\")\n",
        "print(t)"
      ],
      "execution_count": 20,
      "outputs": [
        {
          "output_type": "stream",
          "text": [
            "uoY evoL I\n"
          ],
          "name": "stdout"
        }
      ]
    },
    {
      "cell_type": "markdown",
      "metadata": {
        "id": "dwax4L0kZrh_",
        "colab_type": "text"
      },
      "source": [
        "Lets find out the factorial of a number"
      ]
    },
    {
      "cell_type": "code",
      "metadata": {
        "id": "63lepaleZvAr",
        "colab_type": "code",
        "colab": {
          "base_uri": "https://localhost:8080/",
          "height": 51
        },
        "outputId": "77c93809-820d-44f4-e346-0ff32f51f4aa"
      },
      "source": [
        "def factorial(n):\n",
        "  if n == 0:\n",
        "    return 1\n",
        "  else:\n",
        "    return n*factorial(n-1)\n",
        "\n",
        "print(factorial(int(input(\"Enter a number that you want to know factorial: \"))))"
      ],
      "execution_count": 21,
      "outputs": [
        {
          "output_type": "stream",
          "text": [
            "Enter a number that you want to know factorial: 4\n",
            "24\n"
          ],
          "name": "stdout"
        }
      ]
    },
    {
      "cell_type": "markdown",
      "metadata": {
        "id": "sxvbzLsRa6FH",
        "colab_type": "text"
      },
      "source": [
        "Write a code that checks if a number is in given range"
      ]
    },
    {
      "cell_type": "code",
      "metadata": {
        "id": "w3kfJlRabAEq",
        "colab_type": "code",
        "colab": {
          "base_uri": "https://localhost:8080/",
          "height": 51
        },
        "outputId": "235c80f6-3096-4976-df1a-972b094eb1b1"
      },
      "source": [
        "def inRange(n):\n",
        "  if n in range(10):\n",
        "      print( \" %s is in the range\"%str(n)) \n",
        "  else:\n",
        "    print(\"The number is outside the given range.\")\n",
        "\n",
        "result = inRange(int(input(\"Enter a value: \")))\n"
      ],
      "execution_count": 26,
      "outputs": [
        {
          "output_type": "stream",
          "text": [
            "Enter a value: 3\n",
            " 3 is in the range\n"
          ],
          "name": "stdout"
        }
      ]
    },
    {
      "cell_type": "markdown",
      "metadata": {
        "id": "qDG1iywceirt",
        "colab_type": "text"
      },
      "source": [
        "Find the number of Upper case and Lower case letter in the sentence"
      ]
    },
    {
      "cell_type": "code",
      "metadata": {
        "id": "m_d7wzlTepvC",
        "colab_type": "code",
        "colab": {
          "base_uri": "https://localhost:8080/",
          "height": 85
        },
        "outputId": "825ab829-7585-40a9-b4a7-501971ff8e49"
      },
      "source": [
        "def string_test(s):\n",
        "    d={\"UPPER_CASE\":0, \"LOWER_CASE\":0}\n",
        "    for c in s:\n",
        "        if c.isupper():\n",
        "           d[\"UPPER_CASE\"]+=1\n",
        "        elif c.islower():\n",
        "           d[\"LOWER_CASE\"]+=1\n",
        "        else:\n",
        "           pass\n",
        "    print (\"Original String : \", s)\n",
        "    print (\"No. of Upper case characters : \", d[\"UPPER_CASE\"])\n",
        "    print (\"No. of Lower case Characters : \", d[\"LOWER_CASE\"])\n",
        "\n",
        "string_test(str(input('Enter your sentence: ')))"
      ],
      "execution_count": 28,
      "outputs": [
        {
          "output_type": "stream",
          "text": [
            "Enter your sentence: Hello Badhon, how are you?\n",
            "Original String :  Hello Badhon, how are you?\n",
            "No. of Upper case characters :  2\n",
            "No. of Lower case Characters :  18\n"
          ],
          "name": "stdout"
        }
      ]
    },
    {
      "cell_type": "markdown",
      "metadata": {
        "id": "Q7llHlsngvFs",
        "colab_type": "text"
      },
      "source": [
        "Write a code that finds unique value from a list"
      ]
    },
    {
      "cell_type": "code",
      "metadata": {
        "id": "NS09STI6g1nJ",
        "colab_type": "code",
        "colab": {
          "base_uri": "https://localhost:8080/",
          "height": 34
        },
        "outputId": "30d1dadc-6397-4a47-ed7e-be8ca6d3b765"
      },
      "source": [
        "def unique(l):\n",
        "  x = []\n",
        "  for c in l:\n",
        "    if c not in x:\n",
        "      x.append(c)\n",
        "  return x\n",
        "\n",
        "print(unique([1,2,3,4,4,5,5,6,7,7,8,8,9,10]))"
      ],
      "execution_count": 29,
      "outputs": [
        {
          "output_type": "stream",
          "text": [
            "[1, 2, 3, 4, 5, 6, 7, 8, 9, 10]\n"
          ],
          "name": "stdout"
        }
      ]
    },
    {
      "cell_type": "markdown",
      "metadata": {
        "id": "a8yRZEqLhq59",
        "colab_type": "text"
      },
      "source": [
        "Write a code that finds the even number from a list"
      ]
    },
    {
      "cell_type": "code",
      "metadata": {
        "id": "K55intNqhycB",
        "colab_type": "code",
        "colab": {
          "base_uri": "https://localhost:8080/",
          "height": 51
        },
        "outputId": "10401bc0-d0a4-43c4-e5f0-b0985d7ea99b"
      },
      "source": [
        "def even(l):\n",
        "  x = []\n",
        "  for c in l:\n",
        "    if c%2 == 0:\n",
        "      x.append(c)\n",
        "  return x\n",
        "\n",
        "print(even([int(i) for i in input().split()]))"
      ],
      "execution_count": 31,
      "outputs": [
        {
          "output_type": "stream",
          "text": [
            "12 11 3 4 22 90 9 88 87 65 45\n",
            "[12, 4, 22, 90, 88]\n"
          ],
          "name": "stdout"
        }
      ]
    },
    {
      "cell_type": "markdown",
      "metadata": {
        "id": "Y5Re8D0EkDSO",
        "colab_type": "text"
      },
      "source": [
        "Write a code that takes a word or sentence and find out if it is a palindrome or not"
      ]
    },
    {
      "cell_type": "code",
      "metadata": {
        "id": "F2hlaLT3kLft",
        "colab_type": "code",
        "colab": {
          "base_uri": "https://localhost:8080/",
          "height": 51
        },
        "outputId": "dd153096-e525-4a92-f3c0-2d4cfc32e67a"
      },
      "source": [
        "def palindrome(n):\n",
        "  if n == ''.join(reversed(n)):\n",
        "    print(\"This is Palindrome\")\n",
        "  else:\n",
        "    print(\"This is not a Palindrome\")\n",
        "\n",
        "palindrome(str(input()))"
      ],
      "execution_count": 36,
      "outputs": [
        {
          "output_type": "stream",
          "text": [
            "madam\n",
            "This is Palindrome\n"
          ],
          "name": "stdout"
        }
      ]
    }
  ]
}