{
  "nbformat": 4,
  "nbformat_minor": 0,
  "metadata": {
    "colab": {
      "name": "Array manipulation",
      "provenance": [],
      "collapsed_sections": [],
      "authorship_tag": "ABX9TyODlIbpwmluQEbNSgDpiuKv",
      "include_colab_link": true
    },
    "kernelspec": {
      "name": "python3",
      "display_name": "Python 3"
    }
  },
  "cells": [
    {
      "cell_type": "markdown",
      "metadata": {
        "id": "view-in-github",
        "colab_type": "text"
      },
      "source": [
        "<a href=\"https://colab.research.google.com/github/Arif-Badhon/ColabGoogle/blob/master/Array_manipulation.ipynb\" target=\"_parent\"><img src=\"https://colab.research.google.com/assets/colab-badge.svg\" alt=\"Open In Colab\"/></a>"
      ]
    },
    {
      "cell_type": "markdown",
      "metadata": {
        "id": "kN2E2I3I-h7-",
        "colab_type": "text"
      },
      "source": [
        "Implement a function that takes as input three variables, and returns the largest of the three. Do this without using the Python max() function!\n",
        "\n",
        "The goal of this exercise is to think about some internals that Python normally takes care of for us. All you need is some variables and if statements!"
      ]
    },
    {
      "cell_type": "markdown",
      "metadata": {
        "id": "RF-krJWxIWpV",
        "colab_type": "text"
      },
      "source": [
        "This code does not give us correct answer all time"
      ]
    },
    {
      "cell_type": "code",
      "metadata": {
        "id": "fMR4SZ_S-bqY",
        "colab_type": "code",
        "colab": {}
      },
      "source": [
        "def max_of_three(a,b,c):\n",
        "     max_3=0\n",
        "     if a>b:\n",
        "         max_3=a\n",
        "         if a>c:\n",
        "             max_3=c\n",
        "         else:\n",
        "             max_3=a\n",
        "     else:\n",
        "          if b>c:\n",
        "             max_3=b\n",
        "          else:\n",
        "             max_3=c\n",
        "     return max_3"
      ],
      "execution_count": null,
      "outputs": []
    },
    {
      "cell_type": "markdown",
      "metadata": {
        "id": "ZG0q4PWG_Cnh",
        "colab_type": "text"
      },
      "source": [
        "Now call the function"
      ]
    },
    {
      "cell_type": "code",
      "metadata": {
        "id": "f3j1y0ZS_GfE",
        "colab_type": "code",
        "colab": {
          "base_uri": "https://localhost:8080/",
          "height": 68
        },
        "outputId": "dbf3cf63-8985-4161-cf88-1800851172cc"
      },
      "source": [
        "a = int(input(\"Enter a Number\"))\n",
        "b = int(input(\"Enter a Number\"))\n",
        "c = int(input(\"Enter a Number\"))\n",
        "\n",
        "solution = max_of_three(a,b,c)"
      ],
      "execution_count": null,
      "outputs": [
        {
          "output_type": "stream",
          "text": [
            "Enter a Number12\n",
            "Enter a Number1\n",
            "Enter a Number109\n"
          ],
          "name": "stdout"
        }
      ]
    },
    {
      "cell_type": "markdown",
      "metadata": {
        "id": "9hrooILj_Ybc",
        "colab_type": "text"
      },
      "source": [
        "Now print the solution"
      ]
    },
    {
      "cell_type": "code",
      "metadata": {
        "id": "sPZMCEJz_cr9",
        "colab_type": "code",
        "colab": {
          "base_uri": "https://localhost:8080/",
          "height": 34
        },
        "outputId": "e7232506-f9ed-4ae7-b11a-dac3a739a289"
      },
      "source": [
        "print(solution)"
      ],
      "execution_count": null,
      "outputs": [
        {
          "output_type": "stream",
          "text": [
            "12\n"
          ],
          "name": "stdout"
        }
      ]
    },
    {
      "cell_type": "markdown",
      "metadata": {
        "id": "DUiXwqQO_3Su",
        "colab_type": "text"
      },
      "source": [
        "But we can do this using max() function which will give us correct answer all cases"
      ]
    },
    {
      "cell_type": "code",
      "metadata": {
        "id": "Lfjyz2F3_7eD",
        "colab_type": "code",
        "colab": {
          "base_uri": "https://localhost:8080/",
          "height": 85
        },
        "outputId": "fd65df60-8e59-4bee-eec6-11c198ba1fc8"
      },
      "source": [
        "a = int(input(\"Enter a Number\"))\n",
        "b = int(input(\"Enter a Number\"))\n",
        "c = int(input(\"Enter a Number\"))\n",
        "\n",
        "solution2 = max(a,b,c)\n",
        "print(solution2)"
      ],
      "execution_count": null,
      "outputs": [
        {
          "output_type": "stream",
          "text": [
            "Enter a Number12\n",
            "Enter a Number1\n",
            "Enter a Number109\n",
            "109\n"
          ],
          "name": "stdout"
        }
      ]
    },
    {
      "cell_type": "markdown",
      "metadata": {
        "id": "UyTUnWkPA59A",
        "colab_type": "text"
      },
      "source": [
        "Now if we want to take the input as array"
      ]
    },
    {
      "cell_type": "code",
      "metadata": {
        "id": "enCSLPqYA-Mc",
        "colab_type": "code",
        "colab": {
          "base_uri": "https://localhost:8080/",
          "height": 51
        },
        "outputId": "71154962-ddd0-44ca-f7c4-2dec328db304"
      },
      "source": [
        "x = [int(i) for i in input().split()]\n",
        "print (x)"
      ],
      "execution_count": null,
      "outputs": [
        {
          "output_type": "stream",
          "text": [
            "12 1 22 109 77 23 10 4 7 64 3\n",
            "[12, 1, 22, 109, 77, 23, 10, 4, 7, 64, 3]\n"
          ],
          "name": "stdout"
        }
      ]
    },
    {
      "cell_type": "code",
      "metadata": {
        "id": "eK3VwWAWBMfk",
        "colab_type": "code",
        "colab": {
          "base_uri": "https://localhost:8080/",
          "height": 34
        },
        "outputId": "9e547b5b-693b-4328-f172-cf98bfb7d8bb"
      },
      "source": [
        "solution3 = max(x)\n",
        "print(solution3)"
      ],
      "execution_count": null,
      "outputs": [
        {
          "output_type": "stream",
          "text": [
            "109\n"
          ],
          "name": "stdout"
        }
      ]
    },
    {
      "cell_type": "markdown",
      "metadata": {
        "id": "kQjP3sLeCz6N",
        "colab_type": "text"
      },
      "source": [
        "Take an array and find if there is a duplicate number!!!"
      ]
    },
    {
      "cell_type": "code",
      "metadata": {
        "id": "hKwf0c9cC5Uk",
        "colab_type": "code",
        "colab": {
          "base_uri": "https://localhost:8080/",
          "height": 51
        },
        "outputId": "03f8f39f-d25f-4a56-a321-0b040f76e9c9"
      },
      "source": [
        "y = [int(i) for i in input().split()]\n",
        "print(y)"
      ],
      "execution_count": null,
      "outputs": [
        {
          "output_type": "stream",
          "text": [
            "12 1 22 109 23 33 21 67 56 98 45 67 23 29 77 84\n",
            "[12, 1, 22, 109, 23, 33, 21, 67, 56, 98, 45, 67, 23, 29, 77, 84]\n"
          ],
          "name": "stdout"
        }
      ]
    },
    {
      "cell_type": "markdown",
      "metadata": {
        "id": "DI0dpBkOFdLV",
        "colab_type": "text"
      },
      "source": [
        "Now rest of the code..!!!"
      ]
    },
    {
      "cell_type": "code",
      "metadata": {
        "id": "IttwfXl1FjKr",
        "colab_type": "code",
        "colab": {}
      },
      "source": [
        "def checkIfDuplicates_3(y):\n",
        "    ''' Check if given list contains any duplicates '''    \n",
        "    for elem in y:\n",
        "        if y.count(elem) > 1:\n",
        "            return True\n",
        "    return False"
      ],
      "execution_count": null,
      "outputs": []
    },
    {
      "cell_type": "code",
      "metadata": {
        "id": "GeKQ8R-4FnOk",
        "colab_type": "code",
        "colab": {
          "base_uri": "https://localhost:8080/",
          "height": 34
        },
        "outputId": "3408cae3-155d-42bc-ee55-010c4e97ad23"
      },
      "source": [
        "result = checkIfDuplicates_3(y)\n",
        "if result:\n",
        "    print('Yes, list contains duplicates')\n",
        "else:\n",
        "    print('No duplicates found in list')    "
      ],
      "execution_count": null,
      "outputs": [
        {
          "output_type": "stream",
          "text": [
            "Yes, list contains duplicates\n"
          ],
          "name": "stdout"
        }
      ]
    },
    {
      "cell_type": "markdown",
      "metadata": {
        "id": "53fGkPPs0nNC",
        "colab_type": "text"
      },
      "source": [
        "Now, we want to find out how many times they occur."
      ]
    },
    {
      "cell_type": "code",
      "metadata": {
        "id": "MyO4BMm31CdH",
        "colab_type": "code",
        "colab": {
          "base_uri": "https://localhost:8080/",
          "height": 255
        },
        "outputId": "f8c1be12-addf-40fa-9eb6-716e78200d81"
      },
      "source": [
        "from collections import Counter\n",
        "Counter(y)"
      ],
      "execution_count": null,
      "outputs": [
        {
          "output_type": "execute_result",
          "data": {
            "text/plain": [
              "Counter({1: 1,\n",
              "         12: 1,\n",
              "         21: 1,\n",
              "         22: 1,\n",
              "         23: 2,\n",
              "         29: 1,\n",
              "         33: 1,\n",
              "         45: 1,\n",
              "         56: 1,\n",
              "         67: 2,\n",
              "         77: 1,\n",
              "         84: 1,\n",
              "         98: 1,\n",
              "         109: 1})"
            ]
          },
          "metadata": {
            "tags": []
          },
          "execution_count": 11
        }
      ]
    },
    {
      "cell_type": "markdown",
      "metadata": {
        "id": "w4Mhmx-X69lH",
        "colab_type": "text"
      },
      "source": [
        "Now find out the sum of all numbers"
      ]
    },
    {
      "cell_type": "code",
      "metadata": {
        "id": "GTS8y8F67RmT",
        "colab_type": "code",
        "colab": {
          "base_uri": "https://localhost:8080/",
          "height": 34
        },
        "outputId": "593aeacb-047c-4daa-f4b4-e88dc1949ed0"
      },
      "source": [
        "SUM = sum(y)\n",
        "print(SUM)"
      ],
      "execution_count": null,
      "outputs": [
        {
          "output_type": "stream",
          "text": [
            "767\n"
          ],
          "name": "stdout"
        }
      ]
    },
    {
      "cell_type": "markdown",
      "metadata": {
        "id": "IFx8v1CI5eBv",
        "colab_type": "text"
      },
      "source": [
        "Now if there is strings then lets see what happens.."
      ]
    },
    {
      "cell_type": "code",
      "metadata": {
        "id": "KXE1mZuu5l2t",
        "colab_type": "code",
        "colab": {
          "base_uri": "https://localhost:8080/",
          "height": 391
        },
        "outputId": "563a14b8-625f-437c-c9d1-5801f33cd545"
      },
      "source": [
        "y = [i for i in input().split()]\n",
        "from collections import Counter\n",
        "Counter(y)"
      ],
      "execution_count": null,
      "outputs": [
        {
          "output_type": "stream",
          "text": [
            "2 3 12 14 5  6 67 56 99 87 65 56 43 221 12 102 13 22 45 67 44 3 98 5 21 12 56 77\n"
          ],
          "name": "stdout"
        },
        {
          "output_type": "execute_result",
          "data": {
            "text/plain": [
              "Counter({'102': 1,\n",
              "         '12': 3,\n",
              "         '13': 1,\n",
              "         '14': 1,\n",
              "         '2': 1,\n",
              "         '21': 1,\n",
              "         '22': 1,\n",
              "         '221': 1,\n",
              "         '3': 2,\n",
              "         '43': 1,\n",
              "         '44': 1,\n",
              "         '45': 1,\n",
              "         '5': 2,\n",
              "         '56': 3,\n",
              "         '6': 1,\n",
              "         '65': 1,\n",
              "         '67': 2,\n",
              "         '77': 1,\n",
              "         '87': 1,\n",
              "         '98': 1,\n",
              "         '99': 1})"
            ]
          },
          "metadata": {
            "tags": []
          },
          "execution_count": 13
        }
      ]
    },
    {
      "cell_type": "markdown",
      "metadata": {
        "id": "rfQV0Ob769GJ",
        "colab_type": "text"
      },
      "source": [
        "Now take an strings as input and count the alphabate in that sentence"
      ]
    },
    {
      "cell_type": "code",
      "metadata": {
        "id": "UJ4vRzWc7E6_",
        "colab_type": "code",
        "colab": {
          "base_uri": "https://localhost:8080/",
          "height": 153
        },
        "outputId": "87ec617d-3e20-4b5c-e6cb-0bf675024beb"
      },
      "source": [
        "z = [i for i in input().split()]\n",
        "from collections import Counter\n",
        "Counter(z)"
      ],
      "execution_count": null,
      "outputs": [
        {
          "output_type": "stream",
          "text": [
            "'sunny' 'Badhon' 23 44 56 12 12.3 12.3\n"
          ],
          "name": "stdout"
        },
        {
          "output_type": "execute_result",
          "data": {
            "text/plain": [
              "Counter({\"'Badhon'\": 1,\n",
              "         \"'sunny'\": 1,\n",
              "         '12': 1,\n",
              "         '12.3': 2,\n",
              "         '23': 1,\n",
              "         '44': 1,\n",
              "         '56': 1})"
            ]
          },
          "metadata": {
            "tags": []
          },
          "execution_count": 14
        }
      ]
    },
    {
      "cell_type": "markdown",
      "metadata": {
        "id": "7_O0-ydXniVc",
        "colab_type": "text"
      },
      "source": [
        "Insert value between values in the array"
      ]
    },
    {
      "cell_type": "code",
      "metadata": {
        "id": "9NcY0QHTnnmI",
        "colab_type": "code",
        "colab": {
          "base_uri": "https://localhost:8080/",
          "height": 51
        },
        "outputId": "73378ec1-fca5-416e-da9c-2f3ae5a19e87"
      },
      "source": [
        "z1 = [int(i) for i in input().split()]\n",
        "print(z1)"
      ],
      "execution_count": null,
      "outputs": [
        {
          "output_type": "stream",
          "text": [
            "6 8 3 23 10 3 4 44 8 78 67 45 99 102 304  44 54 10 22 33\n",
            "[6, 8, 3, 23, 10, 3, 4, 44, 8, 78, 67, 45, 99, 102, 304, 44, 54, 10, 22, 33]\n"
          ],
          "name": "stdout"
        }
      ]
    },
    {
      "cell_type": "markdown",
      "metadata": {
        "id": "hk_W4z4kn4vR",
        "colab_type": "text"
      },
      "source": [
        "Now lets insert value 80 at position 3"
      ]
    },
    {
      "cell_type": "code",
      "metadata": {
        "id": "bWvqz9Atn_OR",
        "colab_type": "code",
        "colab": {
          "base_uri": "https://localhost:8080/",
          "height": 34
        },
        "outputId": "6b349b9c-3f91-4c11-f084-97d8f980ed50"
      },
      "source": [
        "z1.insert(3, 80)\n",
        "print(z1)"
      ],
      "execution_count": null,
      "outputs": [
        {
          "output_type": "stream",
          "text": [
            "[6, 8, 3, 80, 23, 10, 3, 4, 44, 8, 78, 67, 45, 99, 102, 304, 44, 54, 10, 22, 33]\n"
          ],
          "name": "stdout"
        }
      ]
    },
    {
      "cell_type": "markdown",
      "metadata": {
        "id": "v6eeAnJXpoOL",
        "colab_type": "text"
      },
      "source": [
        "Now reverse the value in the array"
      ]
    },
    {
      "cell_type": "code",
      "metadata": {
        "id": "GBFd-4cJprOo",
        "colab_type": "code",
        "colab": {
          "base_uri": "https://localhost:8080/",
          "height": 34
        },
        "outputId": "39dd1b92-b337-4af1-fbd8-37c7c399a5aa"
      },
      "source": [
        "z1.reverse()\n",
        "print(z1)"
      ],
      "execution_count": null,
      "outputs": [
        {
          "output_type": "stream",
          "text": [
            "[33, 22, 10, 54, 44, 304, 102, 99, 45, 67, 78, 8, 44, 4, 3, 10, 23, 80, 3, 8, 6]\n"
          ],
          "name": "stdout"
        }
      ]
    },
    {
      "cell_type": "markdown",
      "metadata": {
        "id": "eUq-kmm996wR",
        "colab_type": "text"
      },
      "source": [
        "Find the first non-consecutive number in an array"
      ]
    },
    {
      "cell_type": "code",
      "metadata": {
        "id": "GZjqmmTY-AQu",
        "colab_type": "code",
        "colab": {}
      },
      "source": [
        "def first_non_consecutive(arr):\n",
        "    prev = arr[0]\n",
        "    first = None\n",
        "    for num in arr[1:]:\n",
        "        if (prev + 1) != num:\n",
        "            first = num\n",
        "            break\n",
        "        prev += 1\n",
        "    return first"
      ],
      "execution_count": null,
      "outputs": []
    },
    {
      "cell_type": "code",
      "metadata": {
        "id": "vip-7zN6-KEv",
        "colab_type": "code",
        "colab": {
          "base_uri": "https://localhost:8080/",
          "height": 34
        },
        "outputId": "832f247c-ef1e-4901-e57f-3442b0175d18"
      },
      "source": [
        "arr = [1,2,3,4,6,7,8,9]\n",
        "Result = first_non_consecutive(arr)\n",
        "print(Result)"
      ],
      "execution_count": null,
      "outputs": [
        {
          "output_type": "stream",
          "text": [
            "6\n"
          ],
          "name": "stdout"
        }
      ]
    },
    {
      "cell_type": "markdown",
      "metadata": {
        "id": "_EwuR6NLAFqq",
        "colab_type": "text"
      },
      "source": [
        "Lets work with 2D array"
      ]
    },
    {
      "cell_type": "code",
      "metadata": {
        "id": "55M8rZf5I8DK",
        "colab_type": "code",
        "colab": {
          "base_uri": "https://localhost:8080/",
          "height": 68
        },
        "outputId": "697cd345-328e-4739-c0e0-4bc90aecacd8"
      },
      "source": [
        "T = [[11, 12, 5, 2], [15, 6,10], [10, 8, 12, 5], [12,15,8,6]]\n",
        "print(T)\n",
        "print(T[1])\n",
        "print(T[1][2])"
      ],
      "execution_count": null,
      "outputs": [
        {
          "output_type": "stream",
          "text": [
            "[[11, 12, 5, 2], [15, 6, 10], [10, 8, 12, 5], [12, 15, 8, 6]]\n",
            "[15, 6, 10]\n",
            "10\n"
          ],
          "name": "stdout"
        }
      ]
    },
    {
      "cell_type": "markdown",
      "metadata": {
        "id": "9Xn5Jai7JZoZ",
        "colab_type": "text"
      },
      "source": [
        "To print out the entire two dimensional array we can use python for loop as shown below. We use end of line to print out the values in different rows."
      ]
    },
    {
      "cell_type": "code",
      "metadata": {
        "id": "zB5GJXN_JaPv",
        "colab_type": "code",
        "colab": {
          "base_uri": "https://localhost:8080/",
          "height": 85
        },
        "outputId": "9e95dfdd-f832-49bb-a2d6-48f55bde696c"
      },
      "source": [
        "for r in T:\n",
        "    for c in r:\n",
        "        print(c,end = \" \")\n",
        "    print()"
      ],
      "execution_count": null,
      "outputs": [
        {
          "output_type": "stream",
          "text": [
            "11 12 5 2 \n",
            "15 6 10 \n",
            "10 8 12 5 \n",
            "12 15 8 6 \n"
          ],
          "name": "stdout"
        }
      ]
    }
  ]
}