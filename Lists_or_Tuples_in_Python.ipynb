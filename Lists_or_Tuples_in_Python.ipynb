{
  "nbformat": 4,
  "nbformat_minor": 0,
  "metadata": {
    "colab": {
      "name": "Lists or Tuples in Python",
      "provenance": [],
      "collapsed_sections": [],
      "authorship_tag": "ABX9TyO202Bd/IRJE9FYj9hzdyXz",
      "include_colab_link": true
    },
    "kernelspec": {
      "name": "python3",
      "display_name": "Python 3"
    }
  },
  "cells": [
    {
      "cell_type": "markdown",
      "metadata": {
        "id": "view-in-github",
        "colab_type": "text"
      },
      "source": [
        "<a href=\"https://colab.research.google.com/github/Arif-Badhon/ColabGoogle/blob/master/Lists_or_Tuples_in_Python.ipynb\" target=\"_parent\"><img src=\"https://colab.research.google.com/assets/colab-badge.svg\" alt=\"Open In Colab\"/></a>"
      ]
    },
    {
      "cell_type": "markdown",
      "metadata": {
        "id": "RRNDdhsPNhml",
        "colab_type": "text"
      },
      "source": [
        "Python lists or Tuples are very common and important parameter in code.  lets do that."
      ]
    },
    {
      "cell_type": "code",
      "metadata": {
        "id": "w-iJs_8tOCQj",
        "colab_type": "code",
        "colab": {}
      },
      "source": [
        "myList = [\"one\", 2, \"three\"]\n",
        "myTuple = (\"one\", 2, \"three\")"
      ],
      "execution_count": null,
      "outputs": []
    },
    {
      "cell_type": "markdown",
      "metadata": {
        "id": "_lgKNxA3O4cb",
        "colab_type": "text"
      },
      "source": [
        "Now lets see the class of these two variable"
      ]
    },
    {
      "cell_type": "code",
      "metadata": {
        "id": "zU2XuoTlPUO6",
        "colab_type": "code",
        "colab": {
          "base_uri": "https://localhost:8080/",
          "height": 51
        },
        "outputId": "4300ae59-1e3a-4cd9-9cef-1c43bec07bba"
      },
      "source": [
        "print(type(myList))\n",
        "print(type(myTuple))"
      ],
      "execution_count": null,
      "outputs": [
        {
          "output_type": "stream",
          "text": [
            "<class 'list'>\n",
            "<class 'tuple'>\n"
          ],
          "name": "stdout"
        }
      ]
    },
    {
      "cell_type": "markdown",
      "metadata": {
        "id": "fEEIIhzUPmcf",
        "colab_type": "text"
      },
      "source": [
        "So, the difference between List and Tuple is first bracket and third bracket. Tuple can have different data types. Lets add something in tuple\n"
      ]
    },
    {
      "cell_type": "code",
      "metadata": {
        "id": "s3660LdiVDbU",
        "colab_type": "code",
        "colab": {
          "base_uri": "https://localhost:8080/",
          "height": 34
        },
        "outputId": "b3b82388-8876-46a9-e8b3-0d6920487342"
      },
      "source": [
        "myTuple = (\"Badhon\", 3, 4.5)\n",
        "myTuple = myTuple + (\"Hello\",)\n",
        "print(myTuple)"
      ],
      "execution_count": null,
      "outputs": [
        {
          "output_type": "stream",
          "text": [
            "('Badhon', 3, 4.5, 'Hello')\n"
          ],
          "name": "stdout"
        }
      ]
    },
    {
      "cell_type": "markdown",
      "metadata": {
        "id": "BEjZDxRuWXCT",
        "colab_type": "text"
      },
      "source": [
        "So we can see you can not append in tuple. You need to concatenate the item with the tuple. Also make the item tuple by putting a comma at the last of it. Lets see another example."
      ]
    },
    {
      "cell_type": "code",
      "metadata": {
        "id": "72-YWO0zXAF7",
        "colab_type": "code",
        "colab": {
          "base_uri": "https://localhost:8080/",
          "height": 51
        },
        "outputId": "effddbad-220b-41d5-fb84-88a453566014"
      },
      "source": [
        "print(myTuple)\n",
        "myTuple = myTuple + (\"Twinkle\", 56, \"23\", 12.33,)\n",
        "print(myTuple)"
      ],
      "execution_count": null,
      "outputs": [
        {
          "output_type": "stream",
          "text": [
            "('Badhon', 3, 4.5, 'Hello')\n",
            "('Badhon', 3, 4.5, 'Hello', 'Twinkle', 56, '23', 12.33)\n"
          ],
          "name": "stdout"
        }
      ]
    },
    {
      "cell_type": "markdown",
      "metadata": {
        "id": "7KT3it3IXT8g",
        "colab_type": "text"
      },
      "source": [
        "Lets print the variable of the tuple one by one."
      ]
    },
    {
      "cell_type": "code",
      "metadata": {
        "id": "JH3UOpymXkZb",
        "colab_type": "code",
        "colab": {
          "base_uri": "https://localhost:8080/",
          "height": 153
        },
        "outputId": "b0101618-3963-463b-ac81-931c40f992bc"
      },
      "source": [
        "for i in myTuple:\n",
        "  print(i)"
      ],
      "execution_count": null,
      "outputs": [
        {
          "output_type": "stream",
          "text": [
            "Badhon\n",
            "3\n",
            "4.5\n",
            "Hello\n",
            "Twinkle\n",
            "56\n",
            "23\n",
            "12.33\n"
          ],
          "name": "stdout"
        }
      ]
    },
    {
      "cell_type": "markdown",
      "metadata": {
        "id": "rcn3ygafZGut",
        "colab_type": "text"
      },
      "source": [
        "Lets convert our Tuple to Strings"
      ]
    },
    {
      "cell_type": "code",
      "metadata": {
        "id": "0a7cubt5ZPWa",
        "colab_type": "code",
        "colab": {
          "base_uri": "https://localhost:8080/",
          "height": 51
        },
        "outputId": "56e96f93-bc48-485b-80a7-92a477819637"
      },
      "source": [
        "myTuple2 = str(myTuple)\n",
        "print(myTuple2)\n",
        "print(type(myTuple2))"
      ],
      "execution_count": null,
      "outputs": [
        {
          "output_type": "stream",
          "text": [
            "('Badhon', 3, 4.5, 'Hello', 'Twinkle', 56, '23', 12.33)\n",
            "<class 'str'>\n"
          ],
          "name": "stdout"
        }
      ]
    },
    {
      "cell_type": "markdown",
      "metadata": {
        "id": "4bi4zItEZ-Wl",
        "colab_type": "text"
      },
      "source": [
        "Write a Python program to create the colon of a tuple."
      ]
    },
    {
      "cell_type": "code",
      "metadata": {
        "id": "fzS-bq6lZ_L0",
        "colab_type": "code",
        "colab": {
          "base_uri": "https://localhost:8080/",
          "height": 68
        },
        "outputId": "e6bfc8c6-6c89-429a-f8e1-0b2e261cf7f2"
      },
      "source": [
        "from copy import deepcopy\n",
        "#create a tuple\n",
        "tuplex = (\"HELLO\", 5, [], True) \n",
        "print(tuplex)\n",
        "#make a copy of a tuple using deepcopy() function\n",
        "tuplex_colon = deepcopy(tuplex)\n",
        "tuplex_colon[2].append(50)\n",
        "print(tuplex_colon)\n",
        "print(tuplex)"
      ],
      "execution_count": null,
      "outputs": [
        {
          "output_type": "stream",
          "text": [
            "('HELLO', 5, [], True)\n",
            "('HELLO', 5, [50], True)\n",
            "('HELLO', 5, [], True)\n"
          ],
          "name": "stdout"
        }
      ]
    },
    {
      "cell_type": "markdown",
      "metadata": {
        "id": "f9phryrMbZ17",
        "colab_type": "text"
      },
      "source": [
        "Find if there is repeted items in the tuple"
      ]
    },
    {
      "cell_type": "code",
      "metadata": {
        "id": "tkZve9ELbiKU",
        "colab_type": "code",
        "colab": {}
      },
      "source": [
        "myTuple = (\"Badhon\", 3, 23.445, \"55\", \"Badhon\",)"
      ],
      "execution_count": 49,
      "outputs": []
    },
    {
      "cell_type": "code",
      "metadata": {
        "id": "LQGjroIbcDwz",
        "colab_type": "code",
        "colab": {
          "base_uri": "https://localhost:8080/",
          "height": 51
        },
        "outputId": "8a81558f-1c0d-426b-9f44-149a3dce9997"
      },
      "source": [
        "print(myTuple)\n",
        "print(type(myTuple))"
      ],
      "execution_count": 50,
      "outputs": [
        {
          "output_type": "stream",
          "text": [
            "('Badhon', 3, 23.445, '55', 'Badhon')\n",
            "<class 'tuple'>\n"
          ],
          "name": "stdout"
        }
      ]
    },
    {
      "cell_type": "code",
      "metadata": {
        "id": "vBHZOM-tdUuz",
        "colab_type": "code",
        "colab": {
          "base_uri": "https://localhost:8080/",
          "height": 34
        },
        "outputId": "c0cec549-d39d-4af7-f5fb-dad87c1fecc3"
      },
      "source": [
        "from collections import Counter\n",
        "Counter(myTuple)"
      ],
      "execution_count": 51,
      "outputs": [
        {
          "output_type": "execute_result",
          "data": {
            "text/plain": [
              "Counter({23.445: 1, 3: 1, '55': 1, 'Badhon': 2})"
            ]
          },
          "metadata": {
            "tags": []
          },
          "execution_count": 51
        }
      ]
    },
    {
      "cell_type": "code",
      "metadata": {
        "id": "oJtY0nBihH2a",
        "colab_type": "code",
        "colab": {
          "base_uri": "https://localhost:8080/",
          "height": 51
        },
        "outputId": "787d3751-4b78-4cee-db1f-0ce132cef7e7"
      },
      "source": [
        "for i in myTuple:\n",
        "  if myTuple.count(i) > 1:\n",
        "    print(\"There is Duplicate..!!\")"
      ],
      "execution_count": 52,
      "outputs": [
        {
          "output_type": "stream",
          "text": [
            "There is Duplicate..!!\n",
            "There is Duplicate..!!\n"
          ],
          "name": "stdout"
        }
      ]
    },
    {
      "cell_type": "markdown",
      "metadata": {
        "id": "TAzenJAgiHoE",
        "colab_type": "text"
      },
      "source": [
        "Find if an item exists in a Tuple"
      ]
    },
    {
      "cell_type": "code",
      "metadata": {
        "id": "9MecCUOSiMZx",
        "colab_type": "code",
        "colab": {
          "base_uri": "https://localhost:8080/",
          "height": 34
        },
        "outputId": "7a250fea-c579-4417-d5a1-6e6b90ef13f7"
      },
      "source": [
        "print(\"Badhon\" in myTuple)"
      ],
      "execution_count": 53,
      "outputs": [
        {
          "output_type": "stream",
          "text": [
            "True\n"
          ],
          "name": "stdout"
        }
      ]
    },
    {
      "cell_type": "markdown",
      "metadata": {
        "id": "SUnonUfuih1y",
        "colab_type": "text"
      },
      "source": [
        "Convert a List to a Tuple"
      ]
    },
    {
      "cell_type": "code",
      "metadata": {
        "id": "rCDASVpgimjr",
        "colab_type": "code",
        "colab": {
          "base_uri": "https://localhost:8080/",
          "height": 34
        },
        "outputId": "f2df0c95-3874-4985-a4fa-1b9b1879d239"
      },
      "source": [
        "List1 = [\"Badhon\", 12, 3.44, \"Hello\"]\n",
        "print(type(List1))"
      ],
      "execution_count": 54,
      "outputs": [
        {
          "output_type": "stream",
          "text": [
            "<class 'list'>\n"
          ],
          "name": "stdout"
        }
      ]
    },
    {
      "cell_type": "code",
      "metadata": {
        "id": "FW5lGSMMjbfj",
        "colab_type": "code",
        "colab": {
          "base_uri": "https://localhost:8080/",
          "height": 34
        },
        "outputId": "41925e9a-944e-43ba-8eee-45276c0254c5"
      },
      "source": [
        "TupleList1 = tuple(List1)\n",
        "print(type(TupleList1))"
      ],
      "execution_count": 55,
      "outputs": [
        {
          "output_type": "stream",
          "text": [
            "<class 'tuple'>\n"
          ],
          "name": "stdout"
        }
      ]
    },
    {
      "cell_type": "markdown",
      "metadata": {
        "id": "yhZof-IdkPSL",
        "colab_type": "text"
      },
      "source": [
        "Delete a item from Tuple.\n",
        "You have to convert it to a list first."
      ]
    },
    {
      "cell_type": "code",
      "metadata": {
        "id": "g9OZnQAolfgL",
        "colab_type": "code",
        "colab": {
          "base_uri": "https://localhost:8080/",
          "height": 34
        },
        "outputId": "6886bedf-f00a-4138-c7da-888111013724"
      },
      "source": [
        "Listlist1 = list(TupleList1)\n",
        "Listlist1.remove(12)\n",
        "print(Listlist1)"
      ],
      "execution_count": 59,
      "outputs": [
        {
          "output_type": "stream",
          "text": [
            "['Badhon', 3.44, 'Hello']\n"
          ],
          "name": "stdout"
        }
      ]
    },
    {
      "cell_type": "markdown",
      "metadata": {
        "id": "UA4VFVDJl1UF",
        "colab_type": "text"
      },
      "source": [
        "Find the length of a tuple"
      ]
    },
    {
      "cell_type": "code",
      "metadata": {
        "id": "RPhzm-wal3xh",
        "colab_type": "code",
        "colab": {
          "base_uri": "https://localhost:8080/",
          "height": 34
        },
        "outputId": "011650b5-3b25-41a3-ce38-20aece5602e3"
      },
      "source": [
        "print(len(TupleList1))"
      ],
      "execution_count": 60,
      "outputs": [
        {
          "output_type": "stream",
          "text": [
            "4\n"
          ],
          "name": "stdout"
        }
      ]
    },
    {
      "cell_type": "markdown",
      "metadata": {
        "id": "AFj_CJpDmIOA",
        "colab_type": "text"
      },
      "source": [
        "Now convert Tuple to a Dictonary "
      ]
    },
    {
      "cell_type": "code",
      "metadata": {
        "id": "u8L-aOO2mLk2",
        "colab_type": "code",
        "colab": {
          "base_uri": "https://localhost:8080/",
          "height": 34
        },
        "outputId": "bf4f7ebc-df1f-4640-8c18-6cbd7f167885"
      },
      "source": [
        "Tuple1 = ((2,\"w\"), (\"Badhon\", 100), (12, 34.55))\n",
        "print(dict((y, x) for x, y in Tuple1))"
      ],
      "execution_count": 61,
      "outputs": [
        {
          "output_type": "stream",
          "text": [
            "{'w': 2, 100: 'Badhon', 34.55: 12}\n"
          ],
          "name": "stdout"
        }
      ]
    },
    {
      "cell_type": "markdown",
      "metadata": {
        "id": "9QMiG5bvn3sr",
        "colab_type": "text"
      },
      "source": [
        "Now reverse a Tuple."
      ]
    },
    {
      "cell_type": "code",
      "metadata": {
        "id": "ZO_yhMJan6G4",
        "colab_type": "code",
        "colab": {
          "base_uri": "https://localhost:8080/",
          "height": 34
        },
        "outputId": "20c27a18-e0cb-4c5d-d0c3-a006b43d4321"
      },
      "source": [
        "myTuple = (\"one\", 23.44, \"Badhon\", 2,)\n",
        "myTupleRevesed = reversed(myTuple)\n",
        "print(tuple(myTupleRevesed))"
      ],
      "execution_count": 64,
      "outputs": [
        {
          "output_type": "stream",
          "text": [
            "(2, 'Badhon', 23.44, 'one')\n"
          ],
          "name": "stdout"
        }
      ]
    }
  ]
}