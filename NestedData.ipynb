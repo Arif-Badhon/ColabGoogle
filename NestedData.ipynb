{
  "nbformat": 4,
  "nbformat_minor": 0,
  "metadata": {
    "colab": {
      "name": "NestedData",
      "provenance": [],
      "authorship_tag": "ABX9TyPTZwGw9swhviPf22tZd7rQ",
      "include_colab_link": true
    },
    "kernelspec": {
      "name": "python3",
      "display_name": "Python 3"
    }
  },
  "cells": [
    {
      "cell_type": "markdown",
      "metadata": {
        "id": "view-in-github",
        "colab_type": "text"
      },
      "source": [
        "<a href=\"https://colab.research.google.com/github/Arif-Badhon/ColabGoogle/blob/master/NestedData.ipynb\" target=\"_parent\"><img src=\"https://colab.research.google.com/assets/colab-badge.svg\" alt=\"Open In Colab\"/></a>"
      ]
    },
    {
      "cell_type": "markdown",
      "metadata": {
        "id": "fy16Iuj91uD4",
        "colab_type": "text"
      },
      "source": [
        "Nested Data means data inside of data. This notebook will describe the nested data situation in python"
      ]
    },
    {
      "cell_type": "code",
      "metadata": {
        "id": "8IqY-twa1phq",
        "colab_type": "code",
        "colab": {
          "base_uri": "https://localhost:8080/",
          "height": 51
        },
        "outputId": "34a701a8-6ebe-4621-e92a-1a0625d9782e"
      },
      "source": [
        "nested1 = [['a', 'b', 'c'], ['d', 'e'], ['f','g','h']]\n",
        "print(nested1[0])\n",
        "print(len(nested1))"
      ],
      "execution_count": null,
      "outputs": [
        {
          "output_type": "stream",
          "text": [
            "['a', 'b', 'c']\n",
            "3\n"
          ],
          "name": "stdout"
        }
      ]
    },
    {
      "cell_type": "code",
      "metadata": {
        "id": "pwf4k3qi2Pkh",
        "colab_type": "code",
        "colab": {
          "base_uri": "https://localhost:8080/",
          "height": 85
        },
        "outputId": "8af2e972-1694-4d89-85a8-59eb29e4be20"
      },
      "source": [
        "nested1.append(['i'])\n",
        "for l in nested1:\n",
        "  print(l)"
      ],
      "execution_count": null,
      "outputs": [
        {
          "output_type": "stream",
          "text": [
            "['a', 'b', 'c']\n",
            "['d', 'e']\n",
            "['f', 'g', 'h']\n",
            "['i']\n"
          ],
          "name": "stdout"
        }
      ]
    },
    {
      "cell_type": "markdown",
      "metadata": {
        "id": "d6Ahheag3Avi",
        "colab_type": "text"
      },
      "source": [
        "Sorting in nested data"
      ]
    },
    {
      "cell_type": "code",
      "metadata": {
        "id": "prX8ahTo3EU1",
        "colab_type": "code",
        "colab": {}
      },
      "source": [
        "L1 = [1,2,4,-2,-4,5,12.3]\n",
        "L2 = [\"cherry\", \"Badhon\", \"apple\", 12.5, 13]"
      ],
      "execution_count": null,
      "outputs": []
    },
    {
      "cell_type": "code",
      "metadata": {
        "id": "ZgiuHhrs3TAv",
        "colab_type": "code",
        "colab": {}
      },
      "source": [
        "L1.sort()"
      ],
      "execution_count": null,
      "outputs": []
    },
    {
      "cell_type": "code",
      "metadata": {
        "id": "pEOhqXrW3ee_",
        "colab_type": "code",
        "colab": {
          "base_uri": "https://localhost:8080/",
          "height": 34
        },
        "outputId": "c8a79368-0f71-40b6-b386-bdf51addc207"
      },
      "source": [
        "print(L1) # sorting arrange the data from low to high. not possible in strings"
      ],
      "execution_count": null,
      "outputs": [
        {
          "output_type": "stream",
          "text": [
            "[-4, -2, 1, 2, 4, 5, 12.3]\n"
          ],
          "name": "stdout"
        }
      ]
    },
    {
      "cell_type": "markdown",
      "metadata": {
        "id": "COsfI93R3sGn",
        "colab_type": "text"
      },
      "source": [
        "Sort reverse"
      ]
    },
    {
      "cell_type": "code",
      "metadata": {
        "id": "2bDTXY663qgA",
        "colab_type": "code",
        "colab": {
          "base_uri": "https://localhost:8080/",
          "height": 34
        },
        "outputId": "83a3a8ff-4408-4250-bd06-09b016cc7452"
      },
      "source": [
        "L2 = [\"cherry\", \"Badhon\", \"Apple\", \"Blueberry\"]\n",
        "print(sorted(L2, reverse=True))"
      ],
      "execution_count": null,
      "outputs": [
        {
          "output_type": "stream",
          "text": [
            "['cherry', 'Blueberry', 'Badhon', 'Apple']\n"
          ],
          "name": "stdout"
        }
      ]
    },
    {
      "cell_type": "markdown",
      "metadata": {
        "id": "1Rhr_y384Zu6",
        "colab_type": "text"
      },
      "source": [
        "Using indexing retreive the srting \"willow\" from the list and assign that to the variable plant"
      ]
    },
    {
      "cell_type": "code",
      "metadata": {
        "id": "vWM_x5Un4vUK",
        "colab_type": "code",
        "colab": {}
      },
      "source": [
        "data = ['bagel', 'creamcheese', 'breakfast', 'grits', 'leggs', 'bacon', [34,9,73,[]], [['willow', 'birch', 'elm'], 'apple', 'peach', 'cherry']]"
      ],
      "execution_count": null,
      "outputs": []
    },
    {
      "cell_type": "code",
      "metadata": {
        "id": "IJIpy2Xc5WuZ",
        "colab_type": "code",
        "colab": {
          "base_uri": "https://localhost:8080/",
          "height": 34
        },
        "outputId": "71fb0825-7d7d-40ba-8384-8da0f0f81ba7"
      },
      "source": [
        "plant = data[7][0][0]\n",
        "print(plant)"
      ],
      "execution_count": null,
      "outputs": [
        {
          "output_type": "stream",
          "text": [
            "willow\n"
          ],
          "name": "stdout"
        }
      ]
    },
    {
      "cell_type": "markdown",
      "metadata": {
        "id": "q49RJJWr6ICd",
        "colab_type": "text"
      },
      "source": [
        "Nested Dictonaries"
      ]
    },
    {
      "cell_type": "markdown",
      "metadata": {
        "id": "qJrVz0Vt6Rk4",
        "colab_type": "text"
      },
      "source": [
        "Extract the value associated with the key color and assign it to the variable color"
      ]
    },
    {
      "cell_type": "code",
      "metadata": {
        "id": "GaeringK6P_w",
        "colab_type": "code",
        "colab": {}
      },
      "source": [
        "info = {'personal_data':\n",
        "        {'name': 'lauren',\n",
        "         'age':20,\n",
        "         'major': 'Information Science',\n",
        "         'physical_features':\n",
        "         {'color': {'eye': 'blue', 'hair': 'brown'},\n",
        "          'height': '5.8'}\n",
        "         },\n",
        "          'other':\n",
        "             {'favourite colors':['purple', 'green', 'blue'],\n",
        "              'interested_in':['social_media', 'intellectual_property'],}\n",
        "        }"
      ],
      "execution_count": null,
      "outputs": []
    },
    {
      "cell_type": "code",
      "metadata": {
        "id": "AkHm8J308TXC",
        "colab_type": "code",
        "colab": {
          "base_uri": "https://localhost:8080/",
          "height": 34
        },
        "outputId": "29dd87ae-6621-4023-b4dc-0530ed2af40e"
      },
      "source": [
        "color = info ['personal_data']['physical_features']['color']\n",
        "print(color)"
      ],
      "execution_count": null,
      "outputs": [
        {
          "output_type": "stream",
          "text": [
            "{'eye': 'blue', 'hair': 'brown'}\n"
          ],
          "name": "stdout"
        }
      ]
    },
    {
      "cell_type": "markdown",
      "metadata": {
        "id": "_73NKCCj9eaD",
        "colab_type": "text"
      },
      "source": [
        "Nested iteration "
      ]
    },
    {
      "cell_type": "code",
      "metadata": {
        "id": "Uee9Lkyo9gVh",
        "colab_type": "code",
        "colab": {
          "base_uri": "https://localhost:8080/",
          "height": 85
        },
        "outputId": "3a03c7c1-101f-497c-ea6f-6cfceadbf35e"
      },
      "source": [
        "sammy_shark = {'name': 'Sammy', 'animal': 'shark', 'color': 'blue', 'location': 'ocean'}\n",
        "\n",
        "for key in sammy_shark:\n",
        "   print(key + ': ' + sammy_shark[key])"
      ],
      "execution_count": null,
      "outputs": [
        {
          "output_type": "stream",
          "text": [
            "name: Sammy\n",
            "animal: shark\n",
            "color: blue\n",
            "location: ocean\n"
          ],
          "name": "stdout"
        }
      ]
    }
  ]
}